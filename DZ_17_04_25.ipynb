{
 "cells": [
  {
   "cell_type": "code",
   "execution_count": 4,
   "id": "3b3ed233",
   "metadata": {},
   "outputs": [
    {
     "name": "stdout",
     "output_type": "stream",
     "text": [
      "2.8284271247461903\n"
     ]
    }
   ],
   "source": [
    "# Расстояние между двумя точками, заданными координатами\n",
    "def distance(x1: float, y1:float, x2: float, y2: float) -> float:\n",
    "    return  (abs(x1-x2) **2 + abs(y1-y2) **2) ** 0.5\n",
    "\n",
    "print(distance(1,1,3,3))\n"
   ]
  },
  {
   "cell_type": "code",
   "execution_count": null,
   "id": "161b80af",
   "metadata": {},
   "outputs": [],
   "source": []
  }
 ],
 "metadata": {
  "kernelspec": {
   "display_name": "Python 3",
   "language": "python",
   "name": "python3"
  },
  "language_info": {
   "codemirror_mode": {
    "name": "ipython",
    "version": 3
   },
   "file_extension": ".py",
   "mimetype": "text/x-python",
   "name": "python",
   "nbconvert_exporter": "python",
   "pygments_lexer": "ipython3",
   "version": "3.11.9"
  }
 },
 "nbformat": 4,
 "nbformat_minor": 5
}
