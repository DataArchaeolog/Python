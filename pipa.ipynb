{
 "cells": [
  {
   "cell_type": "code",
   "execution_count": 7,
   "metadata": {},
   "outputs": [
    {
     "name": "stdout",
     "output_type": "stream",
     "text": [
      "10\n"
     ]
    }
   ],
   "source": [
    "# Кол-во разных чисел в массиве\n",
    "mas=[1,2,3,4,11,22,33,44,55,55,1,2,3,4,4,34]\n",
    "sett = set(mas)\n",
    "print(len(sett))"
   ]
  },
  {
   "cell_type": "code",
   "execution_count": 30,
   "metadata": {},
   "outputs": [
    {
     "name": "stdout",
     "output_type": "stream",
     "text": [
      "70\n"
     ]
    }
   ],
   "source": [
    "#Количество элементов пересечения множеств \n",
    "#import random\n",
    "print(len(set(random.randint(5, 100) for i in range(60)) | set(random.randint(5, 100) for i in range(60))))\n"
   ]
  },
  {
   "cell_type": "code",
   "execution_count": 23,
   "metadata": {},
   "outputs": [
    {
     "name": "stdout",
     "output_type": "stream",
     "text": [
      "['1', '2', '3', '2', '3', '4']\n",
      "YES\n",
      "YES\n",
      "YES\n",
      "NO\n",
      "NO\n",
      "YES\n"
     ]
    }
   ],
   "source": [
    "str='1 2 3 2 3 4'\n",
    "mas1=list(str.replace(' ',''))\n",
    "print(mas1)\n",
    "sett2=set(mas1)\n",
    "for i in range(len(mas1)):\n",
    "    if mas1[i] in sett2:\n",
    "        print('YES')\n",
    "        sett2.remove(mas1[i])\n",
    "    else:\n",
    "        print('NO')"
   ]
  }
 ],
 "metadata": {
  "kernelspec": {
   "display_name": "Python 3",
   "language": "python",
   "name": "python3"
  },
  "language_info": {
   "codemirror_mode": {
    "name": "ipython",
    "version": 3
   },
   "file_extension": ".py",
   "mimetype": "text/x-python",
   "name": "python",
   "nbconvert_exporter": "python",
   "pygments_lexer": "ipython3",
   "version": "3.11.9"
  }
 },
 "nbformat": 4,
 "nbformat_minor": 2
}
